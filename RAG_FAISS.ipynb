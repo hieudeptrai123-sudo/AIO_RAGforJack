{
  "cells": [
    {
      "cell_type": "markdown",
      "metadata": {
        "id": "view-in-github",
        "colab_type": "text"
      },
      "source": [
        "<a href=\"https://colab.research.google.com/github/hieudeptrai123-sudo/AIO_RAGforJack/blob/colab/RAG_FAISS.ipynb\" target=\"_parent\"><img src=\"https://colab.research.google.com/assets/colab-badge.svg\" alt=\"Open In Colab\"/></a>"
      ]
    },
    {
      "cell_type": "markdown",
      "metadata": {
        "id": "u6mlFC3Na2Z4"
      },
      "source": [
        "## Import Libraries\n"
      ]
    },
    {
      "cell_type": "code",
      "execution_count": null,
      "metadata": {
        "id": "AZiKrVsLe3Gs"
      },
      "outputs": [],
      "source": [
        "!git clone https://github.com/hieudeptrai123-sudo/AIO_RAGforJack.git"
      ]
    },
    {
      "cell_type": "code",
      "execution_count": null,
      "metadata": {
        "id": "hBsLMTY3-57i"
      },
      "outputs": [],
      "source": [
        "!mv /content/AIO_RAGforJack/LegalDataset.py /content"
      ]
    },
    {
      "cell_type": "code",
      "execution_count": null,
      "metadata": {
        "id": "lIMTtcXUbAtk"
      },
      "outputs": [],
      "source": [
        "!pip install transformers faiss-gpu torch datasets tqdm gdown"
      ]
    },
    {
      "cell_type": "code",
      "execution_count": null,
      "metadata": {
        "id": "DsdHmrYia63A"
      },
      "outputs": [],
      "source": [
        "import pandas as pd\n",
        "import numpy as np\n",
        "from tqdm.notebook import tqdm #If this cause IProgree Error, change to tqdm instead of tqdm.notebook\n",
        "from transformers import RagRetriever, RagTokenForGeneration, DPRContextEncoder, DPRQuestionEncoder, DPRContextEncoderTokenizer, DPRQuestionEncoderTokenizer, AdamW\n",
        "import torch\n",
        "from torch.utils.data import DataLoader\n",
        "from LegalDataset import LegalDataset\n",
        "import faiss\n",
        "from torch.utils.data import Dataset\n",
        "import time\n",
        "import gdown"
      ]
    },
    {
      "cell_type": "code",
      "execution_count": null,
      "metadata": {
        "id": "WiyBvYW1f1kJ"
      },
      "outputs": [],
      "source": [
        "gdown.download_folder('https://drive.google.com/drive/folders/1XpqF_ejSmQQJ4IsO38hJDZgMWLZelJyW?usp=sharing',quiet = False)"
      ]
    },
    {
      "cell_type": "markdown",
      "metadata": {
        "id": "OgO_5tV_co8y"
      },
      "source": [
        "## Training"
      ]
    },
    {
      "cell_type": "code",
      "execution_count": null,
      "metadata": {
        "id": "yM8fk-EfcsIl"
      },
      "outputs": [],
      "source": [
        "# Check if CUDA is available\n",
        "device = torch.device(\"cuda\" if torch.cuda.is_available() else \"cpu\")\n",
        "# Function to free CUDA memory\n",
        "def free_memory():\n",
        "    if torch.cuda.is_available():\n",
        "        torch.cuda.empty_cache()"
      ]
    },
    {
      "cell_type": "code",
      "execution_count": null,
      "metadata": {
        "id": "qLjkbKdvct-D"
      },
      "outputs": [],
      "source": [
        "# Step 1: Load dataset\n",
        "corpus_df = pd.read_csv('/content/BKAI/corpus.csv')  # Assuming columns: 'context' and 'cid'\n",
        "train_df = pd.read_csv('/content/BKAI/train.csv')  # Assuming columns: 'question', 'context', 'cid', 'qid'\n",
        "public_test_df = pd.read_csv('/content/BKAI/public_test.csv')  # Assuming columns: 'question', 'qid'\n",
        "\n",
        "# Step 2: Extract passages and their IDs\n",
        "passages = corpus_df['text'].tolist()\n",
        "passage_ids = corpus_df['cid'].tolist()"
      ]
    },
    {
      "cell_type": "code",
      "execution_count": null,
      "metadata": {
        "id": "p-nPIkeqcwce"
      },
      "outputs": [],
      "source": [
        "# Step 3: Load DPR context and question encoders with appropriate tokenizers\n",
        "dpr_context_encoder = DPRContextEncoder.from_pretrained(\"facebook/dpr-ctx_encoder-single-nq-base\", ignore_mismatched_sizes=True).to(device)\n",
        "dpr_context_tokenizer = DPRContextEncoderTokenizer.from_pretrained(\"facebook/dpr-ctx_encoder-single-nq-base\")\n",
        "dpr_question_encoder = DPRQuestionEncoder.from_pretrained(\"facebook/dpr-question_encoder-single-nq-base\").to(device)\n",
        "dpr_question_tokenizer = DPRQuestionEncoderTokenizer.from_pretrained(\"facebook/dpr-question_encoder-single-nq-base\")"
      ]
    },
    {
      "cell_type": "code",
      "execution_count": null,
      "metadata": {
        "id": "aJvrfnU0cx4f"
      },
      "outputs": [],
      "source": [
        "# Step 4: Create a custom retriever using FAISS\n",
        "class FaissRetriever(RagRetriever):\n",
        "    def __init__(self, index, passages, tokenizer, top_k=5):\n",
        "        self.index = index\n",
        "        self.passages = passages\n",
        "        self.tokenizer = tokenizer\n",
        "        self.top_k = top_k\n",
        "\n",
        "    def retrieve(self, question_input_ids, question_hidden_states, question_attention_mask=None):\n",
        "        # Tokenize and embed the question using DPRQuestionEncoder\n",
        "        question_embeds = self._embed_question(question_input_ids)\n",
        "\n",
        "        # Search FAISS index for top-k relevant documents\n",
        "        _, indices = self.index.search(question_embeds.cpu().numpy(), self.top_k)  # FAISS on CPU\n",
        "\n",
        "        # Return top-k passages\n",
        "        retrieved_passages = [self.passages[i] for i in indices[0]]\n",
        "        return retrieved_passages\n",
        "\n",
        "    def _embed_question(self, question_input_ids):\n",
        "        question = self.tokenizer.batch_decode(question_input_ids, skip_special_tokens=True)\n",
        "        inputs = dpr_question_tokenizer(question, return_tensors=\"pt\", padding=True, truncation=True, max_length=128)\n",
        "\n",
        "        # Move inputs to the CUDA\n",
        "        inputs = {key: value.to(device) for key, value in inputs.items()}\n",
        "\n",
        "        with torch.no_grad():\n",
        "            question_embeddings = dpr_question_encoder(**inputs).pooler_output\n",
        "        return question_embeddings"
      ]
    },
    {
      "cell_type": "code",
      "execution_count": null,
      "metadata": {
        "id": "TaXyl3EUc0lM"
      },
      "outputs": [],
      "source": [
        "# Step 5: Embed all passages using DPRContextEncoder with memory management\n",
        "def embed_passages(passages, batch_size=32):\n",
        "    all_embeddings = []\n",
        "\n",
        "    # Wrap the for loop with tqdm to display the progress\n",
        "    for i in tqdm(range(0, len(passages), batch_size), desc=\"Embedding Passages\"):\n",
        "        batch = passages[i:i + batch_size]\n",
        "        inputs = dpr_context_tokenizer(batch, return_tensors=\"pt\", padding=True, truncation=True, max_length=128)\n",
        "\n",
        "        # Move inputs to the CUDA\n",
        "        inputs = {key: value.to(device) for key, value in inputs.items()}\n",
        "\n",
        "        # Disable gradient computation for faster inference\n",
        "        with torch.no_grad():\n",
        "            embeddings = dpr_context_encoder(**inputs).pooler_output\n",
        "\n",
        "        # Move embeddings to CPU to free up CUDA memory\n",
        "        all_embeddings.append(embeddings.cpu())\n",
        "\n",
        "        # Free CUDA memory\n",
        "        free_memory()\n",
        "\n",
        "    # Concatenate all the embeddings into a single tensor\n",
        "    return torch.cat(all_embeddings, dim=0)"
      ]
    },
    {
      "cell_type": "code",
      "execution_count": null,
      "metadata": {
        "colab": {
          "background_save": true
        },
        "id": "lPsyyZL4c1OO"
      },
      "outputs": [],
      "source": [
        "# Get embeddings for all passages\n",
        "passage_embeddings = embed_passages(passages)\n",
        "free_memory()"
      ]
    },
    {
      "cell_type": "code",
      "execution_count": null,
      "metadata": {
        "id": "66gIjX52c2xW"
      },
      "outputs": [],
      "source": [
        "# Step 6: Use FAISS to index the passage embeddings\n",
        "d = passage_embeddings.shape[1]  # Dimensionality of the embeddings\n",
        "\n",
        "# Create a FAISS index for inner product (dot product) on CPU\n",
        "index = faiss.IndexFlatIP(d)  # Inner Product index on CPU\n",
        "\n",
        "# Add embeddings to the index (no need to move to GPU)\n",
        "index.add(passage_embeddings.cpu().numpy())  # Add embeddings to the index\n",
        "\n",
        "# Optional: If you want to verify the number of embeddings added\n",
        "print(f\"Total passages indexed: {index.ntotal}\")\n",
        "\n",
        "# Clear memory if needed\n",
        "free_memory()"
      ]
    },
    {
      "cell_type": "code",
      "execution_count": null,
      "metadata": {
        "id": "LA6PevHNc4Zg"
      },
      "outputs": [],
      "source": [
        "def train_model(model, train_loader, optimizer, device, num_epochs):\n",
        "    for epoch in range(num_epochs):\n",
        "        epoch_loss = 0\n",
        "        for batch in tqdm(train_loader, desc=f\"Training Epoch {epoch + 1}/{num_epochs}\"):\n",
        "            # Move batch to device\n",
        "            input_ids = batch['input_ids'].to(device)\n",
        "            attention_mask = batch['attention_mask'].to(device)\n",
        "            context_input_ids = batch['context_input_ids'].to(device)\n",
        "            context_attention_mask = batch['context_attention_mask'].to(device)\n",
        "\n",
        "            # Print shapes of input tensors for debugging\n",
        "            print(\"Input IDs shape:\", input_ids.shape)\n",
        "            print(\"Attention mask shape:\", attention_mask.shape)\n",
        "            print(\"Context input IDs shape:\", context_input_ids.shape)\n",
        "            print(\"Context attention mask shape:\", context_attention_mask.shape)\n",
        "\n",
        "            # Check input shapes\n",
        "            try:\n",
        "                # Expected shape: [batch_size, sequence_length]\n",
        "                expected_shape = (input_ids.size(0), input_ids.size(1))  # (batch_size, seq_length)\n",
        "                assert input_ids.dim() == 2, \"Input IDs should be 2-dimensional\"\n",
        "                assert input_ids.shape == expected_shape, f\"Expected input_ids shape {expected_shape}, but got {input_ids.shape}\"\n",
        "\n",
        "                assert attention_mask.dim() == 2, \"Attention mask should be 2-dimensional\"\n",
        "                assert attention_mask.shape == expected_shape, f\"Expected attention_mask shape {expected_shape}, but got {attention_mask.shape}\"\n",
        "\n",
        "                assert context_input_ids.dim() == 2, \"Context input IDs should be 2-dimensional\"\n",
        "                assert context_input_ids.shape == expected_shape, f\"Expected context_input_ids shape {expected_shape}, but got {context_input_ids.shape}\"\n",
        "\n",
        "                assert context_attention_mask.dim() == 2, \"Context attention mask should be 2-dimensional\"\n",
        "                assert context_attention_mask.shape == expected_shape, f\"Expected context_attention_mask shape {expected_shape}, but got {context_attention_mask.shape}\"\n",
        "\n",
        "                # Forward pass\n",
        "                outputs = model(\n",
        "                    input_ids=input_ids,\n",
        "                    attention_mask=attention_mask,\n",
        "                    context_input_ids=context_input_ids,\n",
        "                    context_attention_mask=context_attention_mask,\n",
        "                    labels=context_input_ids\n",
        "                )\n",
        "\n",
        "                # Process loss and perform backpropagation\n",
        "                loss = outputs.loss\n",
        "                optimizer.zero_grad()\n",
        "                loss.backward()\n",
        "                optimizer.step()\n",
        "\n",
        "                epoch_loss += loss.item()\n",
        "\n",
        "            except AssertionError as e:\n",
        "                print(f\"Shape Assertion Error: {e}\")\n",
        "            except Exception as e:\n",
        "                print(f\"Error during forward pass: {e}\")\n",
        "\n",
        "        print(f\"Epoch {epoch + 1} completed. Loss: {epoch_loss / len(train_loader)}\")"
      ]
    },
    {
      "cell_type": "code",
      "execution_count": null,
      "metadata": {
        "id": "YadEbkoVc6Ep"
      },
      "outputs": [],
      "source": [
        "# Full training script with updated function\n",
        "\n",
        "if __name__ == '__main__':\n",
        "    # Assuming train_df is already defined and preprocessed\n",
        "    train_dataset = LegalDataset(\n",
        "        df=train_df,\n",
        "        tokenizer_question=dpr_question_tokenizer,\n",
        "        tokenizer_context=dpr_context_tokenizer,\n",
        "        max_length=128  # Maximum token length for truncation\n",
        "    )\n",
        "\n",
        "    train_loader = DataLoader(\n",
        "        train_dataset,\n",
        "        batch_size=8,\n",
        "        shuffle=True,\n",
        "        num_workers=4\n",
        "    )\n",
        "\n",
        "    retriever = FaissRetriever(index=index, passages=passages, tokenizer=dpr_question_tokenizer, top_k=5)\n",
        "    model = RagTokenForGeneration.from_pretrained(\"facebook/rag-token-nq\", retriever=retriever).to(device)\n",
        "    free_memory\n",
        "    optimizer = AdamW(model.parameters(), lr=5e-5)\n",
        "\n",
        "    model.train()\n",
        "    # Train the model\n",
        "    train_model(model, train_loader, optimizer, device, num_epochs=50)\n",
        "\n",
        "    # Save the fine-tuned model\n",
        "    model.save_pretrained('fine_tuned_rag_model')\n",
        "    print(\"Fine-tuning completed and model saved.\")"
      ]
    },
    {
      "cell_type": "markdown",
      "metadata": {
        "id": "wEx1HqoMc9nq"
      },
      "source": [
        "## Prediction"
      ]
    },
    {
      "cell_type": "code",
      "execution_count": null,
      "metadata": {
        "id": "Z7nWSDD1c_T9"
      },
      "outputs": [],
      "source": [
        "# Step 9: Loading the fine-tuned model\n",
        "print(\"Loading the fine-tuned model...\")\n",
        "retriever = FaissRetriever(index=index, passages=passages, tokenizer=dpr_question_tokenizer, top_k=10)\n",
        "fine_tuned_model = RagTokenForGeneration.from_pretrained('fine_tuned_rag_model', retriever=retriever).to(device)\n",
        "print(\"Fine-tuned model loaded successfully.\")\n",
        "# Step 8: Predict top-k documents for each query in public_test.csv with progress bar\n",
        "top_k_predictions = []\n",
        "fine_tuned_model.eval()\n",
        "# Use tqdm to display progress while generating predictions\n",
        "for idx, row in tqdm(public_test_df.iterrows(), total=len(public_test_df), desc=\"Processing Queries\"):\n",
        "    question = row['question']\n",
        "    qid = row['qid']\n",
        "\n",
        "    # Tokenize question\n",
        "    input_ids = dpr_question_tokenizer(question, return_tensors=\"pt\", max_length=128, truncation=True, padding=True).input_ids\n",
        "\n",
        "    # Move inputs to the MPS\n",
        "    input_ids = input_ids.to(device)\n",
        "\n",
        "    # Generate top-k passage predictions\n",
        "    retrieved_passages = retriever.retrieve(input_ids, None)\n",
        "\n",
        "    # Retrieve the passage IDs (cid) for the predicted passages\n",
        "    retrieved_cids = [corpus_df.loc[corpus_df['text'] == passage]['cid'].values[0] for passage in retrieved_passages]\n",
        "\n",
        "    # Append result (qid followed by top-k cids)\n",
        "    top_k_predictions.append(f\"{qid} \" + \" \".join(map(str, retrieved_cids)))\n",
        "\n",
        "    # Free MPS memory after each query\n",
        "    free_memory()\n",
        "\n",
        "# Step 9: Save predictions to predict.txt\n",
        "with open('predict.txt', 'w') as f:\n",
        "    for prediction in top_k_predictions:\n",
        "        f.write(prediction + '\\n')\n",
        "\n",
        "print(\"Predictions saved to predict.txt.\")"
      ]
    }
  ],
  "metadata": {
    "accelerator": "GPU",
    "colab": {
      "gpuType": "T4",
      "provenance": [],
      "toc_visible": true,
      "include_colab_link": true
    },
    "kaggle": {
      "accelerator": "none",
      "dataSources": [],
      "dockerImageVersionId": 30786,
      "isGpuEnabled": false,
      "isInternetEnabled": true,
      "language": "python",
      "sourceType": "notebook"
    },
    "kernelspec": {
      "display_name": "Python 3",
      "name": "python3"
    },
    "language_info": {
      "codemirror_mode": {
        "name": "ipython",
        "version": 3
      },
      "file_extension": ".py",
      "mimetype": "text/x-python",
      "name": "python",
      "nbconvert_exporter": "python",
      "pygments_lexer": "ipython3",
      "version": "3.10.14"
    }
  },
  "nbformat": 4,
  "nbformat_minor": 0
}