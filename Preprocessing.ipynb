{
  "cells": [
    {
      "cell_type": "markdown",
      "metadata": {
        "id": "view-in-github",
        "colab_type": "text"
      },
      "source": [
        "<a href=\"https://colab.research.google.com/github/hieudeptrai123-sudo/AIO_RAGforJack/blob/main/Preprocessing.ipynb\" target=\"_parent\"><img src=\"https://colab.research.google.com/assets/colab-badge.svg\" alt=\"Open In Colab\"/></a>"
      ]
    },
    {
      "cell_type": "code",
      "source": [
        "!pip install pyvi unidecode\n",
        "!git clone https://github.com/hieudeptrai123-sudo/AIO_RAGforJack.git"
      ],
      "metadata": {
        "id": "oY5DB0z2hKi4"
      },
      "execution_count": null,
      "outputs": []
    },
    {
      "cell_type": "code",
      "execution_count": null,
      "metadata": {
        "id": "MuyuWTL6gGRy"
      },
      "outputs": [],
      "source": [
        "import pandas as pd\n",
        "import numpy as np\n",
        "from pyvi import ViTokenizer\n",
        "import re\n",
        "import unidecode"
      ]
    },
    {
      "cell_type": "code",
      "execution_count": null,
      "metadata": {
        "id": "SeeEbhaygGR2"
      },
      "outputs": [],
      "source": [
        "corpus = pd.read_csv('corpus.csv')\n",
        "public_test = pd.read_csv('public_test.csv')\n",
        "train = pd.read_csv('train.csv')"
      ]
    },
    {
      "cell_type": "code",
      "source": [
        "file1_path = 'vietnamese-stopwords-dash.txt'  # Thay đổi đường dẫn tới file thứ nhất\n",
        "file2_path = 'vietnamese-stopwords.txt'  # Thay đổi đường dẫn tới file thứ hai\n",
        "def read_stopwords(file_path):\n",
        "    stopwords = []\n",
        "    with open(file_path, 'r', encoding='utf-8') as file:\n",
        "        for line in file:\n",
        "            stopword = line.strip()  # Tách theo khoảng trắng\n",
        "            stopwords.append(stopword)  # Thêm stopword vào list\n",
        "    return stopwords\n",
        "stopwords1 = read_stopwords(file1_path)\n",
        "stopwords2 = read_stopwords(file2_path)\n",
        "\n",
        "vietnamese_stopwords = set(stopwords1 + stopwords2)\n",
        "\n",
        "def remove_punctuation(text):\n",
        "    no_punct_text = re.sub(r'[^\\w\\s]', '', text)  # This will keep Vietnamese letters and spaces\n",
        "    return no_punct_text"
      ],
      "metadata": {
        "id": "dz7-DtNhhtPW"
      },
      "execution_count": null,
      "outputs": []
    },
    {
      "cell_type": "code",
      "execution_count": null,
      "metadata": {
        "id": "6oC361-JgGR3"
      },
      "outputs": [],
      "source": [
        "corpus['text'] = corpus['text'].apply(lambda x: x.replace('\\n', ' '))\n",
        "corpus['text'] = corpus['text'].apply(lambda x: x.replace('\\t', ' '))\n",
        "corpus['text'] = corpus['text'].apply(lambda x: x.replace('\\r', ' '))\n",
        "corpus['text'] = corpus['text'].apply(lambda x: x.replace('  ', ' '))\n",
        "corpus['text'] = corpus['text'].apply(lambda x: x.lower())\n",
        "\n",
        "public_test['question'] = public_test['question'].apply(lambda x: x.replace('\\n', ' '))\n",
        "public_test['question'] = public_test['question'].apply(lambda x: x.replace('\\t', ' '))\n",
        "public_test['question'] = public_test['question'].apply(lambda x: x.replace('\\r', ' '))\n",
        "public_test['question'] = public_test['question'].apply(lambda x: x.replace('  ', ' '))\n",
        "public_test['question'] = public_test['question'].apply(lambda x: x.lower())\n",
        "\n",
        "train['question'] = train['question'].apply(lambda x: x.replace('\\n', ' '))\n",
        "train['question'] = train['question'].apply(lambda x: x.replace('\\t', ' '))\n",
        "train['question'] = train['question'].apply(lambda x: x.replace('\\r', ' '))\n",
        "train['question'] = train['question'].apply(lambda x: x.replace('  ', ' '))\n",
        "train['question'] = train['question'].apply(lambda x: x.lower())\n",
        "\n",
        "train['context'] = train['context'].apply(lambda x: x.replace('\\n', ' '))\n",
        "train['context'] = train['context'].apply(lambda x: x.replace('\\t', ' '))\n",
        "train['context'] = train['context'].apply(lambda x: x.replace('\\r', ' '))\n",
        "train['context'] = train['context'].apply(lambda x: x.replace('  ', ' '))\n",
        "train['context'] = train['context'].apply(lambda x: x.lower())\n",
        "\n",
        "corpus['text'] = corpus['text'].apply(lambda x: ViTokenizer.tokenize(x))\n",
        "corpus['text'] = corpus['text'].apply(lambda x: remove_punctuation(x))\n",
        "corpus['text'] = corpus['text'].apply(lambda x: ' '.join([word for word in x.split() if word not in vietnamese_stopwords]))\n",
        "corpus['text'] = corpus['text'].apply(lambda x: unidecode.unidecode(x))\n",
        "\n",
        "public_test['question'] = public_test['question'].apply(lambda x: ViTokenizer.tokenize(x))\n",
        "public_test['question'] = public_test['question'].apply(lambda x: remove_punctuation(x))\n",
        "public_test['question'] = public_test['question'].apply(lambda x: ' '.join([word for word in x.split() if word not in vietnamese_stopwords]))\n",
        "public_test['question'] = public_test['question'].apply(lambda x: unidecode.unidecode(x))\n",
        "\n",
        "train['question'] = train['question'].apply(lambda x: ViTokenizer.tokenize(x))\n",
        "train['question'] = train['question'].apply(lambda x: remove_punctuation(x))\n",
        "train['question'] = train['question'].apply(lambda x: ' '.join([word for word in x.split() if word not in vietnamese_stopwords]))\n",
        "train['question'] = train['question'].apply(lambda x: unidecode.unidecode(x))\n",
        "\n",
        "train['context'] = train['context'].apply(lambda x: ViTokenizer.tokenize(x))\n",
        "train['context'] = train['context'].apply(lambda x: remove_punctuation(x))\n",
        "train['context'] = train['context'].apply(lambda x: ' '.join([word for word in x.split() if word not in vietnamese_stopwords]))\n",
        "train['context'] = train['context'].apply(lambda x: unidecode.unidecode(x))\n",
        "\n",
        "\n"
      ]
    },
    {
      "cell_type": "code",
      "execution_count": null,
      "metadata": {
        "id": "QIquZJG_gGR5"
      },
      "outputs": [],
      "source": [
        "train.to_csv('train.csv', index=False)\n",
        "public_test.to_csv('public_test.csv', index=False)\n",
        "corpus.to_csv('corpus.csv', index=False)"
      ]
    }
  ],
  "metadata": {
    "kernelspec": {
      "display_name": ".venv",
      "language": "python",
      "name": "python3"
    },
    "language_info": {
      "codemirror_mode": {
        "name": "ipython",
        "version": 3
      },
      "file_extension": ".py",
      "mimetype": "text/x-python",
      "name": "python",
      "nbconvert_exporter": "python",
      "pygments_lexer": "ipython3",
      "version": "3.12.5"
    },
    "colab": {
      "provenance": [],
      "include_colab_link": true
    }
  },
  "nbformat": 4,
  "nbformat_minor": 0
}