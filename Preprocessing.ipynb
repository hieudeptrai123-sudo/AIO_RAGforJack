{
  "cells": [
    {
      "cell_type": "code",
      "execution_count": null,
      "metadata": {
        "id": "oY5DB0z2hKi4",
        "trusted": true
      },
      "outputs": [],
      "source": [
        "!pip install pyvi unidecode gdown"
      ]
    },
    {
      "cell_type": "code",
      "execution_count": null,
      "metadata": {
        "id": "MuyuWTL6gGRy",
        "trusted": true
      },
      "outputs": [],
      "source": [
        "import pandas as pd\n",
        "import numpy as np\n",
        "from pyvi import ViTokenizer\n",
        "import re\n",
        "import unidecode\n",
        "import gdown\n",
        "\n",
        "gdown.download_folder('https://drive.google.com/drive/folders/1XpqF_ejSmQQJ4IsO38hJDZgMWLZelJyW?usp=sharing',quiet = False)"
      ]
    },
    {
      "cell_type": "code",
      "execution_count": null,
      "metadata": {
        "id": "SeeEbhaygGR2",
        "trusted": true
      },
      "outputs": [],
      "source": [
        "corpus = pd.read_csv('/BKAI/corpus.csv')\n",
        "public_test = pd.read_csv('/BKAI/public_test.csv')\n",
        "train = pd.read_csv('/BKAI/train.csv')"
      ]
    },
    {
      "cell_type": "code",
      "execution_count": null,
      "metadata": {
        "id": "KBLcGYVT3WAW",
        "trusted": true
      },
      "outputs": [],
      "source": [
        "# Remove rows with NaN values and reset index of corpus dataframe\n",
        "corpus = corpus.dropna().reset_index(drop=True)\n",
        "\n",
        "# Remove rows with NaN values and reset index of public_test dataframe\n",
        "public_test = public_test.dropna().reset_index(drop=True)\n",
        "\n",
        "# Remove rows with NaN values and reset index of train dataframe\n",
        "train = train.dropna().reset_index(drop=True)"
      ]
    },
    {
      "cell_type": "code",
      "execution_count": null,
      "metadata": {
        "id": "dz7-DtNhhtPW",
        "trusted": true
      },
      "outputs": [],
      "source": [
        "file1_path = '/AIO_RAGforJack/vietnamese-stopwords-dash.txt'  # Thay đổi đường dẫn tới file thứ nhất\n",
        "file2_path = '/AIO_RAGforJack/vietnamese-stopwords.txt'  # Thay đổi đường dẫn tới file thứ hai\n",
        "def read_stopwords(file_path):\n",
        "    stopwords = []\n",
        "    with open(file_path, 'r', encoding='utf-8') as file:\n",
        "        for line in file:\n",
        "            stopword = line.strip()  # Tách theo khoảng trắng\n",
        "            stopwords.append(stopword)  # Thêm stopword vào list\n",
        "    return stopwords\n",
        "stopwords1 = read_stopwords(file1_path)\n",
        "stopwords2 = read_stopwords(file2_path)\n",
        "\n",
        "vietnamese_stopwords = set(stopwords1 + stopwords2)\n",
        "\n",
        "def remove_punctuation(text):\n",
        "    no_punct_text = re.sub(r'[^\\w\\s]', '', text)  # This will keep Vietnamese letters and spaces\n",
        "    return no_punct_text"
      ]
    },
    {
      "cell_type": "code",
      "execution_count": null,
      "metadata": {
        "id": "6oC361-JgGR3",
        "trusted": true
      },
      "outputs": [],
      "source": [
        "corpus['text'] = corpus['text'].apply(lambda x: x.replace('\\n', ' '))\n",
        "corpus['text'] = corpus['text'].apply(lambda x: x.replace('\\t', ' '))\n",
        "corpus['text'] = corpus['text'].apply(lambda x: x.replace('\\r', ' '))\n",
        "corpus['text'] = corpus['text'].apply(lambda x: x.replace('  ', ' '))\n",
        "corpus['text'] = corpus['text'].apply(lambda x: x.lower())\n",
        "\n",
        "public_test['question'] = public_test['question'].apply(lambda x: x.replace('\\n', ' '))\n",
        "public_test['question'] = public_test['question'].apply(lambda x: x.replace('\\t', ' '))\n",
        "public_test['question'] = public_test['question'].apply(lambda x: x.replace('\\r', ' '))\n",
        "public_test['question'] = public_test['question'].apply(lambda x: x.replace('  ', ' '))\n",
        "public_test['question'] = public_test['question'].apply(lambda x: x.lower())\n",
        "\n",
        "train['question'] = train['question'].apply(lambda x: x.replace('\\n', ' '))\n",
        "train['question'] = train['question'].apply(lambda x: x.replace('\\t', ' '))\n",
        "train['question'] = train['question'].apply(lambda x: x.replace('\\r', ' '))\n",
        "train['question'] = train['question'].apply(lambda x: x.replace('  ', ' '))\n",
        "train['question'] = train['question'].apply(lambda x: x.lower())\n",
        "\n",
        "train['context'] = train['context'].apply(lambda x: x.replace('\\n', ' '))\n",
        "train['context'] = train['context'].apply(lambda x: x.replace('\\t', ' '))\n",
        "train['context'] = train['context'].apply(lambda x: x.replace('\\r', ' '))\n",
        "train['context'] = train['context'].apply(lambda x: x.replace('  ', ' '))\n",
        "train['context'] = train['context'].apply(lambda x: x.lower())\n",
        "\n",
        "corpus['text'] = corpus['text'].apply(lambda x: ViTokenizer.tokenize(x))\n",
        "corpus['text'] = corpus['text'].apply(lambda x: remove_punctuation(x))\n",
        "corpus['text'] = corpus['text'].apply(lambda x: ' '.join([word for word in x.split() if word not in vietnamese_stopwords]))\n",
        "corpus['text'] = corpus['text'].apply(lambda x: unidecode.unidecode(x))\n",
        "\n",
        "public_test['question'] = public_test['question'].apply(lambda x: ViTokenizer.tokenize(x))\n",
        "public_test['question'] = public_test['question'].apply(lambda x: remove_punctuation(x))\n",
        "public_test['question'] = public_test['question'].apply(lambda x: ' '.join([word for word in x.split() if word not in vietnamese_stopwords]))\n",
        "public_test['question'] = public_test['question'].apply(lambda x: unidecode.unidecode(x))\n",
        "\n",
        "train['question'] = train['question'].apply(lambda x: ViTokenizer.tokenize(x))\n",
        "train['question'] = train['question'].apply(lambda x: remove_punctuation(x))\n",
        "train['question'] = train['question'].apply(lambda x: ' '.join([word for word in x.split() if word not in vietnamese_stopwords]))\n",
        "train['question'] = train['question'].apply(lambda x: unidecode.unidecode(x))\n",
        "\n",
        "train['context'] = train['context'].apply(lambda x: ViTokenizer.tokenize(x))\n",
        "train['context'] = train['context'].apply(lambda x: remove_punctuation(x))\n",
        "train['context'] = train['context'].apply(lambda x: ' '.join([word for word in x.split() if word not in vietnamese_stopwords]))\n",
        "train['context'] = train['context'].apply(lambda x: unidecode.unidecode(x))\n",
        "\n",
        "\n"
      ]
    },
    {
      "cell_type": "code",
      "execution_count": null,
      "metadata": {
        "id": "QIquZJG_gGR5"
      },
      "outputs": [],
      "source": [
        "train.to_csv('train.csv', index=False)\n",
        "public_test.to_csv('public_test.csv', index=False)\n",
        "corpus.to_csv('corpus.csv', index=False)"
      ]
    }
  ],
  "metadata": {
    "colab": {
      "include_colab_link": true,
      "provenance": []
    },
    "kaggle": {
      "accelerator": "none",
      "dataSources": [],
      "dockerImageVersionId": 30786,
      "isGpuEnabled": false,
      "isInternetEnabled": true,
      "language": "python",
      "sourceType": "notebook"
    },
    "kernelspec": {
      "display_name": "Python 3",
      "language": "python",
      "name": "python3"
    },
    "language_info": {
      "codemirror_mode": {
        "name": "ipython",
        "version": 3
      },
      "file_extension": ".py",
      "mimetype": "text/x-python",
      "name": "python",
      "nbconvert_exporter": "python",
      "pygments_lexer": "ipython3",
      "version": "3.10.14"
    }
  },
  "nbformat": 4,
  "nbformat_minor": 0
}
