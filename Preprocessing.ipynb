{
  "metadata": {
    "kernelspec": {
      "name": "python3",
      "display_name": "Python 3",
      "language": "python"
    },
    "language_info": {
      "name": "python",
      "version": "3.10.14",
      "mimetype": "text/x-python",
      "codemirror_mode": {
        "name": "ipython",
        "version": 3
      },
      "pygments_lexer": "ipython3",
      "nbconvert_exporter": "python",
      "file_extension": ".py"
    },
    "colab": {
      "provenance": [],
      "include_colab_link": true
    },
    "kaggle": {
      "accelerator": "none",
      "dataSources": [],
      "dockerImageVersionId": 30786,
      "isInternetEnabled": true,
      "language": "python",
      "sourceType": "notebook",
      "isGpuEnabled": false
    }
  },
  "nbformat_minor": 0,
  "nbformat": 4,
  "cells": [
    {
      "cell_type": "markdown",
      "metadata": {
        "id": "view-in-github",
        "colab_type": "text"
      },
      "source": [
        "<a href=\"https://colab.research.google.com/github/hieudeptrai123-sudo/AIO_RAGforJack/blob/main/Preprocessing.ipynb\" target=\"_parent\"><img src=\"https://colab.research.google.com/assets/colab-badge.svg\" alt=\"Open In Colab\"/></a>"
      ]
    },
    {
      "cell_type": "code",
      "source": [
        "!pip install pyvi unidecode gdown\n",
        "!git clone https://github.com/hieudeptrai123-sudo/AIO_RAGforJack.git"
      ],
      "metadata": {
        "id": "oY5DB0z2hKi4",
        "trusted": true
      },
      "execution_count": null,
      "outputs": []
    },
    {
      "cell_type": "code",
      "source": [
        "import pandas as pd\n",
        "import numpy as np\n",
        "from pyvi import ViTokenizer\n",
        "import re\n",
        "import unidecode\n",
        "import gdown\n",
        "\n",
        "gdown.download_folder('https://drive.google.com/drive/folders/1XpqF_ejSmQQJ4IsO38hJDZgMWLZelJyW?usp=sharing',quiet = False)"
      ],
      "metadata": {
        "id": "MuyuWTL6gGRy",
        "trusted": true
      },
      "execution_count": null,
      "outputs": []
    },
    {
      "cell_type": "code",
      "source": [
        "corpus = pd.read_csv('/content/BKAI/corpus.csv')\n",
        "public_test = pd.read_csv('/content/BKAI/public_test.csv')\n",
        "train = pd.read_csv('/content/BKAI/train.csv')"
      ],
      "metadata": {
        "id": "SeeEbhaygGR2",
        "trusted": true
      },
      "execution_count": null,
      "outputs": []
    },
    {
      "cell_type": "code",
      "source": [
        "# Remove rows with NaN values and reset index of corpus dataframe\n",
        "corpus = corpus.dropna().reset_index(drop=True)\n",
        "\n",
        "# Remove rows with NaN values and reset index of public_test dataframe\n",
        "public_test = public_test.dropna().reset_index(drop=True)\n",
        "\n",
        "# Remove rows with NaN values and reset index of train dataframe\n",
        "train = train.dropna().reset_index(drop=True)"
      ],
      "metadata": {
        "trusted": true,
        "id": "KBLcGYVT3WAW"
      },
      "execution_count": null,
      "outputs": []
    },
    {
      "cell_type": "code",
      "source": [
        "file1_path = '/content/AIO_RAGforJack/vietnamese-stopwords-dash.txt'  # Thay đổi đường dẫn tới file thứ nhất\n",
        "file2_path = '/content/AIO_RAGforJack/vietnamese-stopwords.txt'  # Thay đổi đường dẫn tới file thứ hai\n",
        "def read_stopwords(file_path):\n",
        "    stopwords = []\n",
        "    with open(file_path, 'r', encoding='utf-8') as file:\n",
        "        for line in file:\n",
        "            stopword = line.strip()  # Tách theo khoảng trắng\n",
        "            stopwords.append(stopword)  # Thêm stopword vào list\n",
        "    return stopwords\n",
        "stopwords1 = read_stopwords(file1_path)\n",
        "stopwords2 = read_stopwords(file2_path)\n",
        "\n",
        "vietnamese_stopwords = set(stopwords1 + stopwords2)\n",
        "\n",
        "def remove_punctuation(text):\n",
        "    no_punct_text = re.sub(r'[^\\w\\s]', '', text)  # This will keep Vietnamese letters and spaces\n",
        "    return no_punct_text"
      ],
      "metadata": {
        "id": "dz7-DtNhhtPW",
        "trusted": true
      },
      "execution_count": null,
      "outputs": []
    },
    {
      "cell_type": "code",
      "source": [
        "corpus['text'] = corpus['text'].apply(lambda x: x.replace('\\n', ' '))\n",
        "corpus['text'] = corpus['text'].apply(lambda x: x.replace('\\t', ' '))\n",
        "corpus['text'] = corpus['text'].apply(lambda x: x.replace('\\r', ' '))\n",
        "corpus['text'] = corpus['text'].apply(lambda x: x.replace('  ', ' '))\n",
        "corpus['text'] = corpus['text'].apply(lambda x: x.lower())\n",
        "\n",
        "public_test['question'] = public_test['question'].apply(lambda x: x.replace('\\n', ' '))\n",
        "public_test['question'] = public_test['question'].apply(lambda x: x.replace('\\t', ' '))\n",
        "public_test['question'] = public_test['question'].apply(lambda x: x.replace('\\r', ' '))\n",
        "public_test['question'] = public_test['question'].apply(lambda x: x.replace('  ', ' '))\n",
        "public_test['question'] = public_test['question'].apply(lambda x: x.lower())\n",
        "\n",
        "train['question'] = train['question'].apply(lambda x: x.replace('\\n', ' '))\n",
        "train['question'] = train['question'].apply(lambda x: x.replace('\\t', ' '))\n",
        "train['question'] = train['question'].apply(lambda x: x.replace('\\r', ' '))\n",
        "train['question'] = train['question'].apply(lambda x: x.replace('  ', ' '))\n",
        "train['question'] = train['question'].apply(lambda x: x.lower())\n",
        "\n",
        "train['context'] = train['context'].apply(lambda x: x.replace('\\n', ' '))\n",
        "train['context'] = train['context'].apply(lambda x: x.replace('\\t', ' '))\n",
        "train['context'] = train['context'].apply(lambda x: x.replace('\\r', ' '))\n",
        "train['context'] = train['context'].apply(lambda x: x.replace('  ', ' '))\n",
        "train['context'] = train['context'].apply(lambda x: x.lower())\n",
        "\n",
        "corpus['text'] = corpus['text'].apply(lambda x: ViTokenizer.tokenize(x))\n",
        "corpus['text'] = corpus['text'].apply(lambda x: remove_punctuation(x))\n",
        "corpus['text'] = corpus['text'].apply(lambda x: ' '.join([word for word in x.split() if word not in vietnamese_stopwords]))\n",
        "corpus['text'] = corpus['text'].apply(lambda x: unidecode.unidecode(x))\n",
        "\n",
        "public_test['question'] = public_test['question'].apply(lambda x: ViTokenizer.tokenize(x))\n",
        "public_test['question'] = public_test['question'].apply(lambda x: remove_punctuation(x))\n",
        "public_test['question'] = public_test['question'].apply(lambda x: ' '.join([word for word in x.split() if word not in vietnamese_stopwords]))\n",
        "public_test['question'] = public_test['question'].apply(lambda x: unidecode.unidecode(x))\n",
        "\n",
        "train['question'] = train['question'].apply(lambda x: ViTokenizer.tokenize(x))\n",
        "train['question'] = train['question'].apply(lambda x: remove_punctuation(x))\n",
        "train['question'] = train['question'].apply(lambda x: ' '.join([word for word in x.split() if word not in vietnamese_stopwords]))\n",
        "train['question'] = train['question'].apply(lambda x: unidecode.unidecode(x))\n",
        "\n",
        "train['context'] = train['context'].apply(lambda x: ViTokenizer.tokenize(x))\n",
        "train['context'] = train['context'].apply(lambda x: remove_punctuation(x))\n",
        "train['context'] = train['context'].apply(lambda x: ' '.join([word for word in x.split() if word not in vietnamese_stopwords]))\n",
        "train['context'] = train['context'].apply(lambda x: unidecode.unidecode(x))\n",
        "\n",
        "\n"
      ],
      "metadata": {
        "id": "6oC361-JgGR3",
        "trusted": true
      },
      "execution_count": null,
      "outputs": []
    },
    {
      "cell_type": "code",
      "source": [
        "train.to_csv('/content/train.csv', index=False)\n",
        "public_test.to_csv('/content/public_test.csv', index=False)\n",
        "corpus.to_csv('/content/corpus.csv', index=False)"
      ],
      "metadata": {
        "id": "QIquZJG_gGR5"
      },
      "execution_count": null,
      "outputs": []
    }
  ]
}